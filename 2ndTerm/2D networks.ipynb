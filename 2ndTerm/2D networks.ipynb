{
 "cells": [
  {
   "cell_type": "markdown",
   "metadata": {},
   "source": [
    "# Pre-processing\n"
   ]
  },
  {
   "cell_type": "code",
   "execution_count": 7,
   "metadata": {},
   "outputs": [],
   "source": [
    "import scipy.io as scio\n",
    "import numpy as np \n",
    "from sklearn.decomposition import PCA\n",
    "from sklearn.preprocessing import normalize\n",
    "import matplotlib.pyplot as plt\n",
    "from sklearn.cluster import KMeans\n",
    "from sklearn.mixture import GaussianMixture"
   ]
  },
  {
   "cell_type": "markdown",
   "metadata": {},
   "source": [
    "## Get data - without baseline \n",
    "Removal method from Gniadecka"
   ]
  },
  {
   "cell_type": "code",
   "execution_count": 2,
   "metadata": {},
   "outputs": [],
   "source": [
    "tissue3 = scio.loadmat('../Data/tissue3_1.mat')\n",
    "tissue6 = scio.loadmat('../Data/tissue6.mat')\n",
    "tissue30 = scio.loadmat('../Data/tissue30.mat')\n",
    "tissue31 = scio.loadmat('../Data/tissue31.mat')\n",
    "tissue34_1 = scio.loadmat('../Data/tissue34_1.mat')\n",
    "tissue34_2 = scio.loadmat('../Data/tissue34_2.mat')\n",
    "tissue36 = scio.loadmat('../Data/tissue36.mat')\n",
    "tissue37 = scio.loadmat('../Data/tissue37.mat')\n",
    "tissue39_1 = scio.loadmat('../Data/tissue39_1.mat')\n",
    "\n",
    "calibration = scio.loadmat('../Data/cal_14.mat')\n",
    "x = calibration['Cal'][0][0][0]\n",
    "x = [item for sublist in x for item in sublist]\n",
    "\n",
    "tissue_data = [tissue3,tissue6,tissue30,tissue31,tissue34_1,tissue34_2,tissue36,tissue37,tissue39_1]\n",
    "file_names = ['map_t3_nobl.txt','map_t6_nobl.txt','map_t30_nobl.txt','map_t31_nobl.txt','map_t34_1_nobl.txt','map_t34_2_nobl.txt','map_t36_nobl.txt','map_t37_nobl.txt','map_t39_1_nobl.txt']"
   ]
  },
  {
   "cell_type": "code",
   "execution_count": 3,
   "metadata": {},
   "outputs": [],
   "source": [
    "tissues = []\n",
    "count = 0\n",
    "for item in tissue_data: \n",
    "    t_IDX = item['IDX']\n",
    "    t_bcc = item['bcc']\n",
    "    width = t_bcc.shape[0]\n",
    "    height = t_bcc.shape[1]\n",
    "    t_map = np.loadtxt(file_names[count]).reshape(width*height,1024)\n",
    "    tissues.append((t_map,t_bcc,t_IDX,width,height))\n",
    "    count += 1\n",
    "    \n",
    "# tissues: (t_map, t_bcc, t_IDX, width, height)"
   ]
  },
  {
   "cell_type": "code",
   "execution_count": 4,
   "metadata": {},
   "outputs": [],
   "source": [
    "## Train PCA only on relevant BCC data\n",
    "pca_training_data = np.zeros((1000,1024))\n",
    "count = 0\n",
    "\n",
    "for tissue in tissues:\n",
    "    for i in range(width):\n",
    "        for j in range(height):\n",
    "            if count < 1000:\n",
    "                if tissue[1][i,j] == 1:\n",
    "                    index = i*height + j\n",
    "                    pca_training_data[count] = tissue[0][index,:]\n",
    "                    count += 1"
   ]
  },
  {
   "cell_type": "markdown",
   "metadata": {},
   "source": [
    "## PCA dimensionality reduction"
   ]
  },
  {
   "cell_type": "code",
   "execution_count": 5,
   "metadata": {},
   "outputs": [
    {
     "data": {
      "text/plain": [
       "PCA(n_components=200)"
      ]
     },
     "execution_count": 5,
     "metadata": {},
     "output_type": "execute_result"
    }
   ],
   "source": [
    "# Fit PCA to data \n",
    "norm_data = normalize(pca_training_data)\n",
    "pca = PCA(n_components=200)\n",
    "pca.fit(norm_data)"
   ]
  },
  {
   "cell_type": "code",
   "execution_count": 6,
   "metadata": {},
   "outputs": [],
   "source": [
    "## Reshape to regain spatial information\n",
    "shaped_tissue = []\n",
    "\n",
    "for i in range(len(tissues)):\n",
    "    (t_map,t_bcc,t_IDX,width,height) = tissues[i]\n",
    "    # Transform data with PCA\n",
    "    transformed = pca.transform(t_map)\n",
    "    \n",
    "    # Impose width and height to be 200 for uniform input shape\n",
    "    width  = 200\n",
    "    height = 200\n",
    "    \n",
    "    new_map     = np.zeros((width,height,1024))\n",
    "    new_map_pca = np.zeros((width,height,200))\n",
    "    \n",
    "    for i in range(width):\n",
    "        for j in range(height):\n",
    "            index = i*height + j\n",
    "            new_map[i,j,:]     = t_map[index,:]\n",
    "            new_map_pca[i,j,:] = transformed[index,:]\n",
    "    \n",
    "    shaped_tissue.append((new_map,new_map_pca,t_bcc[:200,:200],t_IDX[:200,:200]))"
   ]
  }
 ],
 "metadata": {
  "interpreter": {
   "hash": "40d3a090f54c6569ab1632332b64b2c03c39dcf918b08424e98f38b5ae0af88f"
  },
  "kernelspec": {
   "display_name": "Python 3.9.7 ('base')",
   "language": "python",
   "name": "python3"
  },
  "language_info": {
   "codemirror_mode": {
    "name": "ipython",
    "version": 3
   },
   "file_extension": ".py",
   "mimetype": "text/x-python",
   "name": "python",
   "nbconvert_exporter": "python",
   "pygments_lexer": "ipython3",
   "version": "3.9.7"
  },
  "orig_nbformat": 4
 },
 "nbformat": 4,
 "nbformat_minor": 2
}
