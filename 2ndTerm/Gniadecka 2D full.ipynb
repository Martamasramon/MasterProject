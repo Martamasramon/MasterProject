{
 "cells": [
  {
   "cell_type": "markdown",
   "metadata": {},
   "source": [
    "# Replicating Gniadecka et al.'s paper"
   ]
  },
  {
   "cell_type": "code",
   "execution_count": 2,
   "metadata": {},
   "outputs": [],
   "source": [
    "import scipy.io as scio\n",
    "import numpy as np \n",
    "import torch\n",
    "import torch.nn as nn\n",
    "import tqdm\n",
    "from ipynb.fs.full.Gniadecka_functions import first_derivative_bl_removal, dim_red_PCA, train_model, test_model"
   ]
  },
  {
   "cell_type": "markdown",
   "metadata": {},
   "source": [
    "#### CNN"
   ]
  },
  {
   "cell_type": "code",
   "execution_count": 105,
   "metadata": {},
   "outputs": [],
   "source": [
    "class CNN2D(nn.Module):\n",
    "    def __init__(self,output_size):\n",
    "        super(CNN2D, self).__init__()\n",
    "        self.conv1 = torch.nn.Conv2d(200,100,kernel_size=1,padding='same') \n",
    "        self.relu1 = torch.nn.ReLU()\n",
    "        self.pool1 = torch.nn.MaxPool2d(2, stride=2, padding=1)\n",
    "        self.conv2 = torch.nn.Conv2d(100,100,kernel_size=1,padding='same') \n",
    "        self.relu2 = torch.nn.ReLU()\n",
    "\n",
    "        self.flat = torch.nn.Flatten(1)\n",
    "        self.drop = torch.nn.Dropout(p=0.3)\n",
    "\n",
    "        self.fc1 = torch.nn.Linear(400, 100)\n",
    "        self.relu3 = torch.nn.ReLU()\n",
    "        self.fc2 = torch.nn.Linear(100, 2)\n",
    "        self.softmax = torch.nn.Softmax(dim=1)  \n",
    "    \n",
    "    def forward(self, x):\n",
    "        output = self.conv1(x)\n",
    "        output = self.relu1(output)\n",
    "        output = self.pool1(output)\n",
    "        output = self.conv2(output)\n",
    "        output = self.relu2(output)\n",
    "    \n",
    "        output = self.flat(output)\n",
    "        output = self.drop(output)\n",
    "        \n",
    "        output = self.fc1(output)\n",
    "        output = self.relu3(output)\n",
    "        output = self.fc2(output)\n",
    "        output = self.softmax(output)\n",
    "        return output\n",
    "    \n",
    "def train_model(model, data, target, learning_rate=0.1, num_epochs=50):\n",
    "    size = target.shape[0]\n",
    "            \n",
    "    y = []\n",
    "    for i in range(size):\n",
    "            for j in range(size):\n",
    "                    y.append(target[i,j])\n",
    "    \n",
    "    # Reshape data\n",
    "    X = data.reshape(size,size,1,-1)\n",
    "    tensor_X = torch.Tensor(X)\n",
    "    tensor_y = torch.Tensor(y).long()\n",
    "\n",
    "    print(tensor_X.shape, tensor_y.shape)\n",
    "    dataset = torch.utils.data.TensorDataset(tensor_X, tensor_y)\n",
    "\n",
    "    data_loader = torch.utils.data.DataLoader(dataset, batch_size=None,\n",
    "            sampler=torch.utils.data.BatchSampler(torch.utils.data.RandomSampler(dataset), batch_size=30000, drop_last=False))\n",
    "\n",
    "    # Train model\n",
    "    criterion = nn.CrossEntropyLoss() \n",
    "    optimizer = torch.optim.SGD(model.parameters(), lr=learning_rate)\n",
    "    model.train();\n",
    "\n",
    "    loss_history = []\n",
    "    for _ in tqdm.trange(num_epochs):\n",
    "            for _, (inputs, targets) in enumerate(data_loader):\n",
    "                    optimizer.zero_grad()\n",
    "                    y_pred = model(inputs)\n",
    "                    loss = criterion(y_pred, targets)\n",
    "                    loss.backward()\n",
    "                    optimizer.step()\n",
    "                    loss_history.append(loss.item())\n",
    "    \n",
    "    return model\n",
    "    \n",
    "def test_model(model, data, size=200):\n",
    "    X = data.reshape(data.shape[0],1,-1)\n",
    "    tensor_X = torch.Tensor(X)\n",
    "    \n",
    "    # Evaluate model\n",
    "    model.eval();\n",
    "    y_pred = model(tensor_X) \n",
    "\n",
    "    results = np.zeros((size,size))\n",
    "    for i in range(size):\n",
    "        for j in range(size):\n",
    "            index = i*size + j\n",
    "            array = y_pred[i].detach().numpy()\n",
    "            index = np.argmax(array)\n",
    "            results[i,j] = index \n",
    "            \n",
    "    return results"
   ]
  },
  {
   "cell_type": "markdown",
   "metadata": {},
   "source": [
    "### Workflow"
   ]
  },
  {
   "cell_type": "code",
   "execution_count": 15,
   "metadata": {},
   "outputs": [],
   "source": [
    "### DATA ###\n",
    "tissue3 = scio.loadmat('../Data/tissue3_1.mat')\n",
    "tissue6 = scio.loadmat('../Data/tissue6.mat')\n",
    "tissue30 = scio.loadmat('../Data/tissue30.mat')\n",
    "tissue31 = scio.loadmat('../Data/tissue31.mat')\n",
    "tissue34_1 = scio.loadmat('../Data/tissue34_1.mat')\n",
    "tissue34_2 = scio.loadmat('../Data/tissue34_2.mat')\n",
    "tissue36 = scio.loadmat('../Data/tissue36.mat')\n",
    "tissue37 = scio.loadmat('../Data/tissue37.mat')\n",
    "tissue39_1 = scio.loadmat('../Data/tissue39_1.mat')\n",
    "\n",
    "### DATA ###\n",
    "tissue4 = scio.loadmat('../Data/tissue4.mat')\n",
    "tissue5 = scio.loadmat('../Data/tissue5.mat')\n",
    "tissue9 = scio.loadmat('../Data/tissue9.mat')\n",
    "tissue10 = scio.loadmat('../Data/tissue10.mat')\n",
    "tissue14 = scio.loadmat('../Data/tissue14.mat')\n",
    "tissue32 = scio.loadmat('../Data/tissue32.mat')\n",
    "tissue33 = scio.loadmat('../Data/tissue33.mat')\n",
    "tissue35 = scio.loadmat('../Data/tissue35.mat')\n",
    "tissue40 = scio.loadmat('../Data/tissue40.mat')\n",
    "\n",
    "calibration = scio.loadmat('../Data/cal_14.mat')\n",
    "x = calibration['Cal'][0][0][0]\n",
    "x = [item for sublist in x for item in sublist]"
   ]
  },
  {
   "cell_type": "code",
   "execution_count": null,
   "metadata": {},
   "outputs": [],
   "source": [
    "for key, value in tissue33.items():\n",
    "    print(key)"
   ]
  },
  {
   "cell_type": "code",
   "execution_count": 20,
   "metadata": {},
   "outputs": [],
   "source": [
    "bcc_tissue_data = [tissue3,tissue6,tissue30,tissue31,tissue34_1,tissue34_2,tissue36,tissue37,tissue39_1]\n",
    "bcc_tissue_names = ['map_t3','map_t6','map_t30','map_t31','map_t34_1_c','map_t34_2_c','map_t36','map_t37','map_t39_1']\n",
    "bcc_tissue = []\n",
    "\n",
    "count = 0\n",
    "for item in bcc_tissue_data:\n",
    "    t_map = item[bcc_tissue_names[count]]\n",
    "    bcc_tissue.append(t_map)\n",
    "    count += 1\n",
    "    \n",
    "healthy_tissue_data = [tissue4,tissue5,tissue9,tissue10,tissue14,tissue32,tissue33,tissue35,tissue40]\n",
    "healthy_tissue_names = ['map_t4','map_t5_1','map_t9_1','map_t10','map_t14','map_t32','map_t33_c_2','map_t35','map_t40']\n",
    "healthy_tissue = []\n",
    "\n",
    "count = 0\n",
    "for item in healthy_tissue_data:\n",
    "    t_map = item[healthy_tissue_names[count]]\n",
    "    healthy_tissue.append(t_map)\n",
    "    count += 1"
   ]
  },
  {
   "cell_type": "code",
   "execution_count": 27,
   "metadata": {},
   "outputs": [
    {
     "ename": "IndexError",
     "evalue": "index 100 is out of bounds for axis 0 with size 100",
     "output_type": "error",
     "traceback": [
      "\u001b[0;31m---------------------------------------------------------------------------\u001b[0m",
      "\u001b[0;31mIndexError\u001b[0m                                Traceback (most recent call last)",
      "\u001b[0;32m/var/folders/tl/_smmzcf56jn3pnwyc8ggqhdc0000gn/T/ipykernel_8391/4025464713.py\u001b[0m in \u001b[0;36m<module>\u001b[0;34m\u001b[0m\n\u001b[1;32m     12\u001b[0m \u001b[0;34m\u001b[0m\u001b[0m\n\u001b[1;32m     13\u001b[0m             \u001b[0mbcc_signal\u001b[0m     \u001b[0;34m=\u001b[0m \u001b[0mbcc_tissue\u001b[0m\u001b[0;34m[\u001b[0m\u001b[0mn\u001b[0m\u001b[0;34m]\u001b[0m\u001b[0;34m[\u001b[0m\u001b[0mi\u001b[0m\u001b[0;34m]\u001b[0m\u001b[0;34m[\u001b[0m\u001b[0mj\u001b[0m\u001b[0;34m]\u001b[0m\u001b[0;34m\u001b[0m\u001b[0;34m\u001b[0m\u001b[0m\n\u001b[0;32m---> 14\u001b[0;31m             \u001b[0mhealthy_signal\u001b[0m \u001b[0;34m=\u001b[0m \u001b[0mhealthy_tissue\u001b[0m\u001b[0;34m[\u001b[0m\u001b[0mn\u001b[0m\u001b[0;34m]\u001b[0m\u001b[0;34m[\u001b[0m\u001b[0mi\u001b[0m\u001b[0;34m]\u001b[0m\u001b[0;34m[\u001b[0m\u001b[0mj\u001b[0m\u001b[0;34m]\u001b[0m\u001b[0;34m\u001b[0m\u001b[0;34m\u001b[0m\u001b[0m\n\u001b[0m\u001b[1;32m     15\u001b[0m \u001b[0;34m\u001b[0m\u001b[0m\n\u001b[1;32m     16\u001b[0m             \u001b[0mbcc_res\u001b[0m\u001b[0;34m,\u001b[0m     \u001b[0m_\u001b[0m \u001b[0;34m=\u001b[0m \u001b[0mfirst_derivative_bl_removal\u001b[0m\u001b[0;34m(\u001b[0m\u001b[0mx\u001b[0m\u001b[0;34m,\u001b[0m\u001b[0mbcc_signal\u001b[0m\u001b[0;34m)\u001b[0m\u001b[0;34m\u001b[0m\u001b[0;34m\u001b[0m\u001b[0m\n",
      "\u001b[0;31mIndexError\u001b[0m: index 100 is out of bounds for axis 0 with size 100"
     ]
    }
   ],
   "source": [
    "### Remove baseline from all spectra ###\n",
    "all_bcc     = []\n",
    "all_healthy = []\n",
    "\n",
    "for n in range(9):\n",
    "    bcc_image     = np.zeros((40000,1024))\n",
    "    healhty_image = np.zeros((40000,1024))\n",
    "    \n",
    "    for i in range(200):\n",
    "        for j in range(200):\n",
    "            index = i*200 + j\n",
    "            \n",
    "            bcc_signal     = bcc_tissue[n][i][j]\n",
    "            healthy_signal = healthy_tissue[n][i][j]\n",
    "            \n",
    "            bcc_res,     _ = first_derivative_bl_removal(x,bcc_signal)\n",
    "            healthy_res, _ = first_derivative_bl_removal(x,healthy_signal)\n",
    "            \n",
    "            bcc_image[index,:]     = bcc_res\n",
    "            healhty_image[index,:] = healthy_res\n",
    "    \n",
    "    all_bcc.append(bcc_image)\n",
    "    all_healthy.append(healhty_image)"
   ]
  },
  {
   "cell_type": "code",
   "execution_count": 20,
   "metadata": {},
   "outputs": [],
   "source": [
    "### Perform PCA dimensionality reduction ###\n",
    "from sklearn.decomposition import PCA\n",
    "from sklearn.preprocessing import normalize\n",
    "\n",
    "norm_data = normalize(data)\n",
    "\n",
    "pca = PCA(n_components=200) \n",
    "pca.fit(norm_data)\n",
    "transformed = pca.transform(norm_data)"
   ]
  },
  {
   "cell_type": "code",
   "execution_count": 110,
   "metadata": {},
   "outputs": [],
   "source": [
    "### Create 1D-CNN model ###\n",
    "model = CNN1D(2)"
   ]
  },
  {
   "cell_type": "code",
   "execution_count": 107,
   "metadata": {},
   "outputs": [],
   "source": [
    "### Train model ###\n",
    "train_model(model, reduced_D, bcc)\n",
    "\n"
   ]
  },
  {
   "cell_type": "code",
   "execution_count": null,
   "metadata": {},
   "outputs": [],
   "source": [
    "### Test model ###\n",
    "approximation = test_model(model, reduced_D)"
   ]
  },
  {
   "cell_type": "code",
   "execution_count": 109,
   "metadata": {},
   "outputs": [
    {
     "data": {
      "text/plain": [
       "<matplotlib.image.AxesImage at 0x7fdbf2120ca0>"
      ]
     },
     "execution_count": 109,
     "metadata": {},
     "output_type": "execute_result"
    },
    {
     "data": {
      "image/png": "[encoded data removed]",
      "text/plain": [
       "<Figure size 432x288 with 1 Axes>"
      ]
     },
     "metadata": {
      "needs_background": "light"
     },
     "output_type": "display_data"
    }
   ],
   "source": [
    "import matplotlib.pyplot as plt\n",
    "plt.imshow(bcc)\n"
   ]
  }
 ],
 "metadata": {
  "interpreter": {
   "hash": "40d3a090f54c6569ab1632332b64b2c03c39dcf918b08424e98f38b5ae0af88f"
  },
  "kernelspec": {
   "display_name": "Python 3.9.7 64-bit ('base': conda)",
   "language": "python",
   "name": "python3"
  },
  "language_info": {
   "codemirror_mode": {
    "name": "ipython",
    "version": 3
   },
   "file_extension": ".py",
   "mimetype": "text/x-python",
   "name": "python",
   "nbconvert_exporter": "python",
   "pygments_lexer": "ipython3",
   "version": "3.9.7"
  },
  "orig_nbformat": 4
 },
 "nbformat": 4,
 "nbformat_minor": 2
}
