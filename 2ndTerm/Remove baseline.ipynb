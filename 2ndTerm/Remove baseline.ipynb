{
 "cells": [
  {
   "cell_type": "markdown",
   "metadata": {},
   "source": [
    "# Replicating Gniadecka et al.'s paper"
   ]
  },
  {
   "cell_type": "code",
   "execution_count": 4,
   "metadata": {},
   "outputs": [],
   "source": [
    "import scipy.io as scio\n",
    "import numpy as np \n",
    "import json\n",
    "from ipynb.fs.full.Gniadecka_functions import first_derivative_bl_removal"
   ]
  },
  {
   "cell_type": "markdown",
   "metadata": {},
   "source": [
    "### Workflow"
   ]
  },
  {
   "cell_type": "code",
   "execution_count": 2,
   "metadata": {},
   "outputs": [],
   "source": [
    "### DATA ###\n",
    "tissue3 = scio.loadmat('../Data/tissue3_1.mat')\n",
    "tissue6 = scio.loadmat('../Data/tissue6.mat')\n",
    "tissue30 = scio.loadmat('../Data/tissue30.mat')\n",
    "tissue31 = scio.loadmat('../Data/tissue31.mat')\n",
    "tissue34_1 = scio.loadmat('../Data/tissue34_1.mat')\n",
    "tissue34_2 = scio.loadmat('../Data/tissue34_2.mat')\n",
    "tissue36 = scio.loadmat('../Data/tissue36.mat')\n",
    "tissue37 = scio.loadmat('../Data/tissue37.mat')\n",
    "tissue39_1 = scio.loadmat('../Data/tissue39_1.mat')\n",
    "\n",
    "calibration = scio.loadmat('../Data/cal_14.mat')\n",
    "x = calibration['Cal'][0][0][0]\n",
    "x = [item for sublist in x for item in sublist]"
   ]
  },
  {
   "cell_type": "code",
   "execution_count": 6,
   "metadata": {},
   "outputs": [],
   "source": [
    "all_tissues = [tissue3,tissue6,tissue30,tissue31,tissue34_1,tissue34_2,tissue36,tissue37,tissue39_1]\n",
    "tissues = ['map_t3','map_t6','map_t30','map_t31','map_t34_1_c','map_t34_2_c','map_t36','map_t37','map_t39_1']"
   ]
  },
  {
   "cell_type": "code",
   "execution_count": 22,
   "metadata": {},
   "outputs": [],
   "source": [
    "### Remove baseline from all spectra ###\n",
    "for n in range(1,9):\n",
    "    spectra = all_tissues[n][tissues[n]]\n",
    "    width = spectra.shape[0]\n",
    "    height = spectra.shape[1]\n",
    "    \n",
    "    data = np.zeros((width*height,1024))\n",
    "    count = 0\n",
    "    \n",
    "    for i in range(width):\n",
    "        for j in range(height):\n",
    "            signal = spectra[i,j,:]\n",
    "            res,_ = first_derivative_bl_removal(x,signal)\n",
    "            \n",
    "            data[count,:] = res\n",
    "            count += 1\n",
    "    \n",
    "    name = tissues[n] + '_nobl.txt'\n",
    "    \n",
    "    file = open(name, \"w\")\n",
    "    for row in data:\n",
    "        np.savetxt(file, row)\n",
    "    file.close()"
   ]
  },
  {
   "cell_type": "code",
   "execution_count": 18,
   "metadata": {},
   "outputs": [],
   "source": [
    "original_array = np.loadtxt(name).reshape(40000, 1024)"
   ]
  }
 ],
 "metadata": {
  "interpreter": {
   "hash": "40d3a090f54c6569ab1632332b64b2c03c39dcf918b08424e98f38b5ae0af88f"
  },
  "kernelspec": {
   "display_name": "Python 3.9.7 64-bit ('base': conda)",
   "language": "python",
   "name": "python3"
  },
  "language_info": {
   "codemirror_mode": {
    "name": "ipython",
    "version": 3
   },
   "file_extension": ".py",
   "mimetype": "text/x-python",
   "name": "python",
   "nbconvert_exporter": "python",
   "pygments_lexer": "ipython3",
   "version": "3.9.7"
  },
  "orig_nbformat": 4
 },
 "nbformat": 4,
 "nbformat_minor": 2
}
