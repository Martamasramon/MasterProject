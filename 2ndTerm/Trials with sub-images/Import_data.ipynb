{
 "cells": [
  {
   "cell_type": "code",
   "execution_count": 1,
   "metadata": {},
   "outputs": [],
   "source": [
    "import scipy.io as scio\n",
    "import numpy as np "
   ]
  },
  {
   "cell_type": "code",
   "execution_count": 2,
   "metadata": {},
   "outputs": [],
   "source": [
    "def import_data():\n",
    "    ### IMPORT DATA ###\n",
    "    tissue3 = scio.loadmat('../../Data/tissue3_1.mat')\n",
    "    tissue6 = scio.loadmat('../../Data/tissue6.mat')\n",
    "    tissue30 = scio.loadmat('../../Data/tissue30.mat')\n",
    "    tissue31 = scio.loadmat('../../Data/tissue31.mat')\n",
    "    tissue34_1 = scio.loadmat('../../Data/tissue34_1.mat')\n",
    "    tissue34_2 = scio.loadmat('../../Data/tissue34_2.mat')\n",
    "    tissue36 = scio.loadmat('../../Data/tissue36.mat')\n",
    "    tissue37 = scio.loadmat('../../Data/tissue37.mat')\n",
    "    tissue39_1 = scio.loadmat('../../Data/tissue39_1.mat')\n",
    "\n",
    "    calibration = scio.loadmat('../../Data/cal_14.mat')\n",
    "    x = calibration['Cal'][0][0][0]\n",
    "    x = [item for sublist in x for item in sublist]\n",
    "\n",
    "    tissue_data = [tissue3,tissue6,tissue30,tissue31,tissue34_1,tissue34_2,tissue36,tissue37,tissue39_1]\n",
    "    file_names = ['map_t3_nobl.txt','map_t6_nobl.txt','map_t30_nobl.txt','map_t31_nobl.txt','map_t34_1_nobl.txt','map_t34_2_nobl.txt','map_t36_nobl.txt','map_t37_nobl.txt','map_t39_1_nobl.txt']\n",
    "\n",
    "    tissue = []\n",
    "    count = 0\n",
    "    for item in tissue_data: \n",
    "        t_target = item['bcc']\n",
    "        width = t_target.shape[0]\n",
    "        height = t_target.shape[1]\n",
    "        t_map = np.loadtxt(file_names[count]).reshape(width*height, 1024)\n",
    "        tissue.append((t_map,t_target,width,height))\n",
    "        count += 1\n",
    "        \n",
    "    return tissue"
   ]
  }
 ],
 "metadata": {
  "interpreter": {
   "hash": "40d3a090f54c6569ab1632332b64b2c03c39dcf918b08424e98f38b5ae0af88f"
  },
  "kernelspec": {
   "display_name": "Python 3.9.7 ('base')",
   "language": "python",
   "name": "python3"
  },
  "language_info": {
   "codemirror_mode": {
    "name": "ipython",
    "version": 3
   },
   "file_extension": ".py",
   "mimetype": "text/x-python",
   "name": "python",
   "nbconvert_exporter": "python",
   "pygments_lexer": "ipython3",
   "version": "3.9.7"
  },
  "orig_nbformat": 4
 },
 "nbformat": 4,
 "nbformat_minor": 2
}
