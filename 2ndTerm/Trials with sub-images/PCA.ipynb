{
 "cells": [
  {
   "cell_type": "code",
   "execution_count": 1,
   "metadata": {},
   "outputs": [],
   "source": [
    "import numpy as np \n",
    "from sklearn.decomposition import PCA\n",
    "from sklearn.preprocessing import normalize"
   ]
  },
  {
   "cell_type": "code",
   "execution_count": 1,
   "metadata": {},
   "outputs": [],
   "source": [
    "def my_pca(tissue, pca_components):\n",
    "    ## Train PCA only on relevant BCC data\n",
    "    length = tissue[0][0].shape[1]\n",
    "    pca_training_data = np.zeros((1000,length))\n",
    "    count = 0\n",
    "\n",
    "    for (t_map,t_target,width,height) in tissue:\n",
    "        for i in range(width):\n",
    "            for j in range(height):\n",
    "                if count < 1000:\n",
    "                    if t_target[i,j] == 1:\n",
    "                        index = i*height + j\n",
    "                        pca_training_data[count] = t_map[index,:]\n",
    "                        count += 1\n",
    "                        \n",
    "    ### Perform PCA dimensionality reduction ###\n",
    "    norm_data = normalize(pca_training_data)\n",
    "    pca = PCA(n_components=pca_components) \n",
    "    pca.fit(norm_data)\n",
    "\n",
    "    for i in range(len(tissue)): \n",
    "        transformed = pca.transform(tissue[i][0])\n",
    "        tissue[i] = (transformed,tissue[i][1],tissue[i][2],tissue[i][3])\n",
    "        \n",
    "    return tissue"
   ]
  }
 ],
 "metadata": {
  "interpreter": {
   "hash": "40d3a090f54c6569ab1632332b64b2c03c39dcf918b08424e98f38b5ae0af88f"
  },
  "kernelspec": {
   "display_name": "Python 3.9.7 ('base')",
   "language": "python",
   "name": "python3"
  },
  "language_info": {
   "codemirror_mode": {
    "name": "ipython",
    "version": 3
   },
   "file_extension": ".py",
   "mimetype": "text/x-python",
   "name": "python",
   "nbconvert_exporter": "python",
   "pygments_lexer": "ipython3",
   "version": "3.9.7"
  },
  "orig_nbformat": 4
 },
 "nbformat": 4,
 "nbformat_minor": 2
}
