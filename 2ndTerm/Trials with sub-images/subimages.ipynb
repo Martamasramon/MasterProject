{
 "cells": [
  {
   "cell_type": "code",
   "execution_count": 1,
   "metadata": {},
   "outputs": [],
   "source": [
    "import numpy as np"
   ]
  },
  {
   "cell_type": "code",
   "execution_count": 2,
   "metadata": {},
   "outputs": [],
   "source": [
    "def subimages(tissue, img_width, subimg_spacing, pca_components, n_bcc_lim):\n",
    "    sub_images = []\n",
    "    target = []\n",
    "\n",
    "    for (t_map,t_target,width,height) in tissue:\n",
    "        for i in range(0,width-img_width+1,subimg_spacing): # Can increase overlap - now 0 (40 spacing) \n",
    "            for j in range(0,height-img_width+1,subimg_spacing):\n",
    "                index = i*height + j\n",
    "                spectra = t_map[index:index+img_width*img_width,:]\n",
    "                final_spectra = []\n",
    "                \n",
    "                # Change data structure from (40,40,PCA_COMPONENTS) to (PCA_COMPONENTS,40,40)\n",
    "                for k in range(pca_components):\n",
    "                    wavenum = np.zeros((img_width,img_width))\n",
    "                    for m in range(img_width):\n",
    "                        for n in range (img_width):\n",
    "                            index = m*img_width + n\n",
    "                            wavenum[m,n] = spectra[index,k]\n",
    "                    final_spectra.append(wavenum)\n",
    "                \n",
    "                bcc = t_target[i:i+img_width,j:j+img_width]\n",
    "                sub_images.append(final_spectra)\n",
    "                if np.count_nonzero(bcc) > n_bcc_lim:\n",
    "                    target.append(1)\n",
    "                else:\n",
    "                    target.append(0)\n",
    "                    \n",
    "    return sub_images, target"
   ]
  }
 ],
 "metadata": {
  "interpreter": {
   "hash": "40d3a090f54c6569ab1632332b64b2c03c39dcf918b08424e98f38b5ae0af88f"
  },
  "kernelspec": {
   "display_name": "Python 3.9.7 ('base')",
   "language": "python",
   "name": "python3"
  },
  "language_info": {
   "codemirror_mode": {
    "name": "ipython",
    "version": 3
   },
   "file_extension": ".py",
   "mimetype": "text/x-python",
   "name": "python",
   "nbconvert_exporter": "python",
   "pygments_lexer": "ipython3",
   "version": "3.9.7"
  },
  "orig_nbformat": 4
 },
 "nbformat": 4,
 "nbformat_minor": 2
}
