{
 "cells": [
  {
   "cell_type": "code",
   "execution_count": 1,
   "metadata": {},
   "outputs": [],
   "source": [
    "from ipynb.fs.full.CNN2D       import CNN2D, train_model, test_model, analyse_results\n",
    "from ipynb.fs.full.PCA         import my_pca\n",
    "from ipynb.fs.full.subimages   import subimages"
   ]
  },
  {
   "cell_type": "code",
   "execution_count": 2,
   "metadata": {},
   "outputs": [],
   "source": [
    "def workflow(tissue, PCA_COMPONENTS, IMG_WIDTH, SUBIMG_SPACING, DROPOUT_RATE, LEARNING_RATE, EPOCHS, TRAIN_CUTOFF):\n",
    "    ## PCA transformation\n",
    "    new_tissue = my_pca(tissue, PCA_COMPONENTS)\n",
    "    \n",
    "    ### Get sub-images of size 40x40 ###\n",
    "    sub_images, target = subimages(new_tissue, IMG_WIDTH, SUBIMG_SPACING, PCA_COMPONENTS)\n",
    "    \n",
    "    ### Create 2D-CNN model ###\n",
    "    model = CNN2D(IMG_WIDTH,PCA_COMPONENTS,DROPOUT_RATE)\n",
    "\n",
    "    ### Train model ###\n",
    "    # Input of CNN needts to be (NumberSamples,Channels,Height,Width) \n",
    "    train_model(model, sub_images[:TRAIN_CUTOFF], target[:TRAIN_CUTOFF], LEARNING_RATE, EPOCHS, IMG_WIDTH, PCA_COMPONENTS)\n",
    "\n",
    "    ### Test model ###\n",
    "    approximation_train = test_model(model, sub_images[:TRAIN_CUTOFF], IMG_WIDTH, PCA_COMPONENTS)\n",
    "    approximation_test  = test_model(model, sub_images[TRAIN_CUTOFF:], IMG_WIDTH, PCA_COMPONENTS)\n",
    "\n",
    "    _ = analyse_results(approximation_train, approximation_test, target, TRAIN_CUTOFF, plot=1)"
   ]
  }
 ],
 "metadata": {
  "interpreter": {
   "hash": "40d3a090f54c6569ab1632332b64b2c03c39dcf918b08424e98f38b5ae0af88f"
  },
  "kernelspec": {
   "display_name": "Python 3.9.7 ('base')",
   "language": "python",
   "name": "python3"
  },
  "language_info": {
   "codemirror_mode": {
    "name": "ipython",
    "version": 3
   },
   "file_extension": ".py",
   "mimetype": "text/x-python",
   "name": "python",
   "nbconvert_exporter": "python",
   "pygments_lexer": "ipython3",
   "version": "3.9.7"
  },
  "orig_nbformat": 4
 },
 "nbformat": 4,
 "nbformat_minor": 2
}
