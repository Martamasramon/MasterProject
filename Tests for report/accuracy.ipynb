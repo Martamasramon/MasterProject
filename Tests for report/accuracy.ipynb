{
 "cells": [
  {
   "cell_type": "code",
   "execution_count": 6,
   "metadata": {},
   "outputs": [],
   "source": [
    "def evaluate_performance(estimate, target):\n",
    "    \"\"\"Create confusion matrix and calculate performance measures\n",
    "\n",
    "    Args:\n",
    "        estimate (list): calculated estimate of values\n",
    "        target (list):   target values\n",
    "    \n",
    "    Output:\n",
    "        sensitivity, specificity, precision, accuracy (double)\n",
    "        [true_pos, false_pos, true_neg, false_neg]: values for ROC curve \n",
    "    \"\"\"\n",
    "    \n",
    "    length = len(estimate)\n",
    "    true_pos = 0\n",
    "    true_neg = 0\n",
    "    false_pos = 0\n",
    "    false_neg = 0\n",
    "    \n",
    "    for n in range(length):\n",
    "        if estimate[n] == 0:\n",
    "            if target[n] == 0:\n",
    "                true_neg += 1\n",
    "            else:\n",
    "                false_neg += 1\n",
    "        else:\n",
    "            if target[n] == 0:\n",
    "                false_pos += 1\n",
    "            else:\n",
    "                true_pos += 1\n",
    "    \n",
    "    sensitivity = format(true_pos / (true_pos + false_neg), '.5f')\n",
    "    specificity = format(true_neg / (true_neg + false_pos), '.5f')\n",
    "    precision   = format(true_pos / (true_pos + false_pos), '.5f')\n",
    "    accuracy    = format((true_pos + true_neg) / length, '.5f')\n",
    "    \n",
    "    return sensitivity, specificity, precision, accuracy, [true_pos, false_pos, true_neg, false_neg]"
   ]
  },
  {
   "cell_type": "code",
   "execution_count": 2,
   "metadata": {},
   "outputs": [],
   "source": [
    "from random import randint\n",
    "\n",
    "real        = []\n",
    "estimate    = []\n",
    "\n",
    "for i in range(100):\n",
    "    r = randint(0,1)\n",
    "    p = randint(0,4)\n",
    "    if p<4:\n",
    "        t = r \n",
    "    else:\n",
    "        t = randint(0,1)\n",
    "        \n",
    "    real.append(r)\n",
    "    estimate.append(t)"
   ]
  },
  {
   "cell_type": "code",
   "execution_count": 39,
   "metadata": {},
   "outputs": [],
   "source": [
    "sensitivity, specificity, precision, accuracy, confusion_matrix = evaluate_performance(estimate, real)"
   ]
  },
  {
   "cell_type": "code",
   "execution_count": 40,
   "metadata": {},
   "outputs": [
    {
     "name": "stdout",
     "output_type": "stream",
     "text": [
      "0.8604651162790697\n",
      "0.9122807017543859\n",
      "0.8809523809523809\n",
      "0.89\n"
     ]
    }
   ],
   "source": [
    "print(sensitivity) \n",
    "print(specificity) \n",
    "print(precision) \n",
    "print(accuracy) "
   ]
  },
  {
   "cell_type": "code",
   "execution_count": 41,
   "metadata": {},
   "outputs": [
    {
     "name": "stdout",
     "output_type": "stream",
     "text": [
      "37\n",
      "5\n",
      "52\n",
      "6\n"
     ]
    }
   ],
   "source": [
    "for item in confusion_matrix:\n",
    "    print(item)"
   ]
  },
  {
   "cell_type": "code",
   "execution_count": 14,
   "metadata": {},
   "outputs": [],
   "source": [
    "import numpy as np\n",
    "performance = np.zeros((4,21))\n",
    "for i in range(21):\n",
    "    performance[0,i], performance[1,i], performance[2,i], performance[3,i], _ = evaluate_performance(estimate,real)\n",
    "\n",
    "with open('performance_no_smoothing.txt', 'a') as f:\n",
    "    f.write('-------------------------------------------------------------------------------------------------------------------------------------------------------------------------------------------------------------------- \\n')\n",
    "    for item in performance:\n",
    "        for i in range(21):\n",
    "            f.write(f\"{str(item[i]):^10}\")\n",
    "        f.write('\\n')\n",
    "    f.write('-------------------------------------------------------------------------------------------------------------------------------------------------------------------------------------------------------------------- \\n\\n\\n\\n')"
   ]
  }
 ],
 "metadata": {
  "interpreter": {
   "hash": "b307e106b4415aab05d069007e309b18aa4b6c305ecd328ac783ec5c0b6de2e1"
  },
  "kernelspec": {
   "display_name": "Python 3.9.7 ('base')",
   "language": "python",
   "name": "python3"
  },
  "language_info": {
   "codemirror_mode": {
    "name": "ipython",
    "version": 3
   },
   "file_extension": ".py",
   "mimetype": "text/x-python",
   "name": "python",
   "nbconvert_exporter": "python",
   "pygments_lexer": "ipython3",
   "version": "3.9.7"
  },
  "orig_nbformat": 4
 },
 "nbformat": 4,
 "nbformat_minor": 2
}
